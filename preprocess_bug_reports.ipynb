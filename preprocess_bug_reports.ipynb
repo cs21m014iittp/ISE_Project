{
 "cells": [
  {
   "cell_type": "code",
   "execution_count": 2,
   "id": "9107a427",
   "metadata": {},
   "outputs": [],
   "source": [
    "import pandas as pd"
   ]
  },
  {
   "cell_type": "code",
   "execution_count": 14,
   "id": "817520f8",
   "metadata": {},
   "outputs": [
    {
     "data": {
      "text/html": [
       "<div>\n",
       "<style scoped>\n",
       "    .dataframe tbody tr th:only-of-type {\n",
       "        vertical-align: middle;\n",
       "    }\n",
       "\n",
       "    .dataframe tbody tr th {\n",
       "        vertical-align: top;\n",
       "    }\n",
       "\n",
       "    .dataframe thead th {\n",
       "        text-align: right;\n",
       "    }\n",
       "</style>\n",
       "<table border=\"1\" class=\"dataframe\">\n",
       "  <thead>\n",
       "    <tr style=\"text-align: right;\">\n",
       "      <th></th>\n",
       "      <th>Title</th>\n",
       "    </tr>\n",
       "  </thead>\n",
       "  <tbody>\n",
       "    <tr>\n",
       "      <th>0</th>\n",
       "      <td>What is bad web design?</td>\n",
       "    </tr>\n",
       "    <tr>\n",
       "      <th>1</th>\n",
       "      <td>[Bug]: No support for Hardcoded Preferences</td>\n",
       "    </tr>\n",
       "    <tr>\n",
       "      <th>2</th>\n",
       "      <td>Fix Text Action Secondary color in FirefoxTheme</td>\n",
       "    </tr>\n",
       "    <tr>\n",
       "      <th>3</th>\n",
       "      <td>en-US string incorrect: \"shorcuts\"</td>\n",
       "    </tr>\n",
       "    <tr>\n",
       "      <th>4</th>\n",
       "      <td>Add a Modifier extension method to draw a dash...</td>\n",
       "    </tr>\n",
       "  </tbody>\n",
       "</table>\n",
       "</div>"
      ],
      "text/plain": [
       "                                               Title\n",
       "0                            What is bad web design?\n",
       "1        [Bug]: No support for Hardcoded Preferences\n",
       "2    Fix Text Action Secondary color in FirefoxTheme\n",
       "3                 en-US string incorrect: \"shorcuts\"\n",
       "4  Add a Modifier extension method to draw a dash..."
      ]
     },
     "execution_count": 14,
     "metadata": {},
     "output_type": "execute_result"
    }
   ],
   "source": [
    "raw_df = pd.read_csv(\"raw_data/bug reports/firefox_bug_report.csv\")\n",
    "raw_df.head()"
   ]
  },
  {
   "cell_type": "code",
   "execution_count": 15,
   "id": "76512664",
   "metadata": {},
   "outputs": [],
   "source": [
    "#mark a report as True if it is a bug report else mark it False\n",
    "bug_markers = []\n",
    "tags = [\"[Bug]:\",\"[Bug]\",\"[bug]:\",\"[bug]\" ]\n",
    "for index,row in raw_df.iterrows():\n",
    "    if any(tag in row['Title'] for tag in tags):\n",
    "        #print(\"inside if: \",row['Title'])\n",
    "        bug_markers.append(True)\n",
    "    else:\n",
    "        bug_markers.append(False)\n"
   ]
  },
  {
   "cell_type": "code",
   "execution_count": 16,
   "id": "38a83b95",
   "metadata": {},
   "outputs": [
    {
     "name": "stdout",
     "output_type": "stream",
     "text": [
      "5160\n"
     ]
    }
   ],
   "source": [
    "count =0\n",
    "for temp in bug_markers:\n",
    "    if temp==True:\n",
    "        count = count + 1 \n",
    "print(count)"
   ]
  },
  {
   "cell_type": "code",
   "execution_count": 23,
   "id": "f892b7de",
   "metadata": {},
   "outputs": [
    {
     "data": {
      "text/html": [
       "<div>\n",
       "<style scoped>\n",
       "    .dataframe tbody tr th:only-of-type {\n",
       "        vertical-align: middle;\n",
       "    }\n",
       "\n",
       "    .dataframe tbody tr th {\n",
       "        vertical-align: top;\n",
       "    }\n",
       "\n",
       "    .dataframe thead th {\n",
       "        text-align: right;\n",
       "    }\n",
       "</style>\n",
       "<table border=\"1\" class=\"dataframe\">\n",
       "  <thead>\n",
       "    <tr style=\"text-align: right;\">\n",
       "      <th></th>\n",
       "      <th>Title</th>\n",
       "    </tr>\n",
       "  </thead>\n",
       "  <tbody>\n",
       "    <tr>\n",
       "      <th>1</th>\n",
       "      <td>[Bug]: No support for Hardcoded Preferences</td>\n",
       "    </tr>\n",
       "    <tr>\n",
       "      <th>6</th>\n",
       "      <td>[Bug]: With some input method, when inputting ...</td>\n",
       "    </tr>\n",
       "    <tr>\n",
       "      <th>7</th>\n",
       "      <td>[Bug]: WebGL Canvas rendering issue</td>\n",
       "    </tr>\n",
       "    <tr>\n",
       "      <th>12</th>\n",
       "      <td>[Bug]: Glean is not initialized. It may be dis...</td>\n",
       "    </tr>\n",
       "    <tr>\n",
       "      <th>15</th>\n",
       "      <td>[Bug]: Nimbus Debug build error on Windows</td>\n",
       "    </tr>\n",
       "    <tr>\n",
       "      <th>...</th>\n",
       "      <td>...</td>\n",
       "    </tr>\n",
       "    <tr>\n",
       "      <th>344</th>\n",
       "      <td>[Bug]: Select elements don't seem to work anymore</td>\n",
       "    </tr>\n",
       "    <tr>\n",
       "      <th>345</th>\n",
       "      <td>[Bug]: Dropdown menus don't work on Firefox Ni...</td>\n",
       "    </tr>\n",
       "    <tr>\n",
       "      <th>348</th>\n",
       "      <td>[Bug]: drop down menus not working</td>\n",
       "    </tr>\n",
       "    <tr>\n",
       "      <th>349</th>\n",
       "      <td>[Bug]: Selects have stopped working in Nightly</td>\n",
       "    </tr>\n",
       "    <tr>\n",
       "      <th>351</th>\n",
       "      <td>[Bug]: / buttons' icons in Search Suggestions ...</td>\n",
       "    </tr>\n",
       "  </tbody>\n",
       "</table>\n",
       "<p>100 rows × 1 columns</p>\n",
       "</div>"
      ],
      "text/plain": [
       "                                                 Title\n",
       "1          [Bug]: No support for Hardcoded Preferences\n",
       "6    [Bug]: With some input method, when inputting ...\n",
       "7                  [Bug]: WebGL Canvas rendering issue\n",
       "12   [Bug]: Glean is not initialized. It may be dis...\n",
       "15          [Bug]: Nimbus Debug build error on Windows\n",
       "..                                                 ...\n",
       "344  [Bug]: Select elements don't seem to work anymore\n",
       "345  [Bug]: Dropdown menus don't work on Firefox Ni...\n",
       "348                 [Bug]: drop down menus not working\n",
       "349     [Bug]: Selects have stopped working in Nightly\n",
       "351  [Bug]: / buttons' icons in Search Suggestions ...\n",
       "\n",
       "[100 rows x 1 columns]"
      ]
     },
     "execution_count": 23,
     "metadata": {},
     "output_type": "execute_result"
    }
   ],
   "source": [
    "#remove all the reports which are not bug reports\n",
    "\n",
    "bug_reports_df = raw_df\n",
    "bug_reports_df['bug marker'] = bug_markers\n",
    "bug_reports_df = bug_reports_df[bug_reports_df['bug marker']==True].drop(\"bug marker\",axis=1)\n",
    "bug_reports_df.head(100)"
   ]
  },
  {
   "cell_type": "code",
   "execution_count": 24,
   "id": "64b86d61",
   "metadata": {},
   "outputs": [
    {
     "data": {
      "text/html": [
       "<div>\n",
       "<style scoped>\n",
       "    .dataframe tbody tr th:only-of-type {\n",
       "        vertical-align: middle;\n",
       "    }\n",
       "\n",
       "    .dataframe tbody tr th {\n",
       "        vertical-align: top;\n",
       "    }\n",
       "\n",
       "    .dataframe thead th {\n",
       "        text-align: right;\n",
       "    }\n",
       "</style>\n",
       "<table border=\"1\" class=\"dataframe\">\n",
       "  <thead>\n",
       "    <tr style=\"text-align: right;\">\n",
       "      <th></th>\n",
       "      <th>Title</th>\n",
       "    </tr>\n",
       "  </thead>\n",
       "  <tbody>\n",
       "    <tr>\n",
       "      <th>1</th>\n",
       "      <td>No support for Hardcoded Preferences</td>\n",
       "    </tr>\n",
       "    <tr>\n",
       "      <th>6</th>\n",
       "      <td>With some input method, when inputting at the...</td>\n",
       "    </tr>\n",
       "    <tr>\n",
       "      <th>7</th>\n",
       "      <td>WebGL Canvas rendering issue</td>\n",
       "    </tr>\n",
       "    <tr>\n",
       "      <th>12</th>\n",
       "      <td>Glean is not initialized. It may be disabled ...</td>\n",
       "    </tr>\n",
       "    <tr>\n",
       "      <th>15</th>\n",
       "      <td>Nimbus Debug build error on Windows</td>\n",
       "    </tr>\n",
       "    <tr>\n",
       "      <th>...</th>\n",
       "      <td>...</td>\n",
       "    </tr>\n",
       "    <tr>\n",
       "      <th>344</th>\n",
       "      <td>Select elements don't seem to work anymore</td>\n",
       "    </tr>\n",
       "    <tr>\n",
       "      <th>345</th>\n",
       "      <td>Dropdown menus don't work on Firefox Nightly</td>\n",
       "    </tr>\n",
       "    <tr>\n",
       "      <th>348</th>\n",
       "      <td>drop down menus not working</td>\n",
       "    </tr>\n",
       "    <tr>\n",
       "      <th>349</th>\n",
       "      <td>Selects have stopped working in Nightly</td>\n",
       "    </tr>\n",
       "    <tr>\n",
       "      <th>351</th>\n",
       "      <td>/ buttons' icons in Search Suggestions are no...</td>\n",
       "    </tr>\n",
       "  </tbody>\n",
       "</table>\n",
       "<p>100 rows × 1 columns</p>\n",
       "</div>"
      ],
      "text/plain": [
       "                                                 Title\n",
       "1                 No support for Hardcoded Preferences\n",
       "6     With some input method, when inputting at the...\n",
       "7                         WebGL Canvas rendering issue\n",
       "12    Glean is not initialized. It may be disabled ...\n",
       "15                 Nimbus Debug build error on Windows\n",
       "..                                                 ...\n",
       "344         Select elements don't seem to work anymore\n",
       "345       Dropdown menus don't work on Firefox Nightly\n",
       "348                        drop down menus not working\n",
       "349            Selects have stopped working in Nightly\n",
       "351   / buttons' icons in Search Suggestions are no...\n",
       "\n",
       "[100 rows x 1 columns]"
      ]
     },
     "execution_count": 24,
     "metadata": {},
     "output_type": "execute_result"
    }
   ],
   "source": [
    "#removing the \"[Bug]:\" substring \n",
    "pre_processed_bug_reports = bug_reports_df\n",
    "pre_processed_bug_reports['Title'] = pre_processed_bug_reports.Title.str.replace(r'\\[\\S+\\]:|\\[\\S+\\]',r'',regex=True)\n",
    "pre_processed_bug_reports['Title'] = pre_processed_bug_reports.Title.str.replace(r'http\\S+|www\\S+',r'website',regex=True)\n",
    "\n",
    "\n",
    "pre_processed_bug_reports.head(100)"
   ]
  },
  {
   "cell_type": "code",
   "execution_count": 25,
   "id": "1422b671",
   "metadata": {},
   "outputs": [],
   "source": [
    "#dropping duplicates\n",
    "pre_processed_bug_reports.drop_duplicates(subset=\"Title\",inplace=True)\n",
    "#dropping rows with null values\n",
    "pre_processed_bug_reports.dropna(inplace=True)\n",
    "#converting everything to lowercase\n",
    "pre_processed_bug_reports['Title'] = pre_processed_bug_reports['Title'].str.lower()\n"
   ]
  },
  {
   "cell_type": "code",
   "execution_count": 29,
   "id": "afe5f82c",
   "metadata": {},
   "outputs": [],
   "source": [
    "pre_processed_bug_reports = pre_processed_bug_reports.astype(str).apply(lambda x: x.str.encode('ascii', 'ignore').str.decode('ascii'))\n",
    "pre_processed_bug_reports['Title'].astype(bool)\n",
    "pre_processed_bug_reports=pre_processed_bug_reports[pre_processed_bug_reports['Title'].astype(bool)]"
   ]
  },
  {
   "cell_type": "code",
   "execution_count": 30,
   "id": "0f947a93",
   "metadata": {},
   "outputs": [],
   "source": [
    "#removing punctuations \n",
    "import string\n",
    "def remove_punctuations(text):\n",
    "    for punctuation in string.punctuation:\n",
    "        text = text.replace(punctuation, '')\n",
    "    return text\n",
    "pre_processed_bug_reports[\"Title\"] = pre_processed_bug_reports['Title'].apply(remove_punctuations)"
   ]
  },
  {
   "cell_type": "code",
   "execution_count": 22,
   "id": "60111596",
   "metadata": {},
   "outputs": [],
   "source": [
    "#writing the finalbug reports to a csv file\n",
    "pre_processed_bug_reports.to_csv(path_or_buf = \"processed_data/firefox_processed_bugReports.csv\",columns = [\"Title\"],header=False)"
   ]
  },
  {
   "cell_type": "code",
   "execution_count": 31,
   "id": "c0e8e4e0",
   "metadata": {},
   "outputs": [
    {
     "data": {
      "text/plain": [
       "5063"
      ]
     },
     "execution_count": 31,
     "metadata": {},
     "output_type": "execute_result"
    }
   ],
   "source": [
    "len(pre_processed_bug_reports)"
   ]
  },
  {
   "cell_type": "code",
   "execution_count": 13,
   "id": "02912c6e",
   "metadata": {},
   "outputs": [
    {
     "name": "stdout",
     "output_type": "stream",
     "text": [
      "5064\n"
     ]
    }
   ],
   "source": [
    "pre_processed_bug_reports.drop_duplicates(subset=\"Title\",inplace=True)\n",
    "pre_processed_bug_reports.dropna(inplace=True)\n",
    "print(len(pre_processed_bug_reports))"
   ]
  }
 ],
 "metadata": {
  "kernelspec": {
   "display_name": "Python 3 (ipykernel)",
   "language": "python",
   "name": "python3"
  },
  "language_info": {
   "codemirror_mode": {
    "name": "ipython",
    "version": 3
   },
   "file_extension": ".py",
   "mimetype": "text/x-python",
   "name": "python",
   "nbconvert_exporter": "python",
   "pygments_lexer": "ipython3",
   "version": "3.9.7"
  }
 },
 "nbformat": 4,
 "nbformat_minor": 5
}
