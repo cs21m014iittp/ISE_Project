{
 "cells": [
  {
   "cell_type": "code",
   "execution_count": 1,
   "id": "9107a427",
   "metadata": {},
   "outputs": [],
   "source": [
    "import pandas as pd"
   ]
  },
  {
   "cell_type": "code",
   "execution_count": 2,
   "id": "817520f8",
   "metadata": {},
   "outputs": [
    {
     "data": {
      "text/html": [
       "<div>\n",
       "<style scoped>\n",
       "    .dataframe tbody tr th:only-of-type {\n",
       "        vertical-align: middle;\n",
       "    }\n",
       "\n",
       "    .dataframe tbody tr th {\n",
       "        vertical-align: top;\n",
       "    }\n",
       "\n",
       "    .dataframe thead th {\n",
       "        text-align: right;\n",
       "    }\n",
       "</style>\n",
       "<table border=\"1\" class=\"dataframe\">\n",
       "  <thead>\n",
       "    <tr style=\"text-align: right;\">\n",
       "      <th></th>\n",
       "      <th>Title</th>\n",
       "    </tr>\n",
       "  </thead>\n",
       "  <tbody>\n",
       "    <tr>\n",
       "      <th>0</th>\n",
       "      <td>What is bad web design?</td>\n",
       "    </tr>\n",
       "    <tr>\n",
       "      <th>1</th>\n",
       "      <td>[Bug]: No support for Hardcoded Preferences</td>\n",
       "    </tr>\n",
       "    <tr>\n",
       "      <th>2</th>\n",
       "      <td>Fix Text Action Secondary color in FirefoxTheme</td>\n",
       "    </tr>\n",
       "    <tr>\n",
       "      <th>3</th>\n",
       "      <td>en-US string incorrect: \"shorcuts\"</td>\n",
       "    </tr>\n",
       "    <tr>\n",
       "      <th>4</th>\n",
       "      <td>Add a Modifier extension method to draw a dash...</td>\n",
       "    </tr>\n",
       "  </tbody>\n",
       "</table>\n",
       "</div>"
      ],
      "text/plain": [
       "                                               Title\n",
       "0                            What is bad web design?\n",
       "1        [Bug]: No support for Hardcoded Preferences\n",
       "2    Fix Text Action Secondary color in FirefoxTheme\n",
       "3                 en-US string incorrect: \"shorcuts\"\n",
       "4  Add a Modifier extension method to draw a dash..."
      ]
     },
     "execution_count": 2,
     "metadata": {},
     "output_type": "execute_result"
    }
   ],
   "source": [
    "raw_df = pd.read_csv(\"raw_data/bug reports/firefox_bug_report.csv\")\n",
    "raw_df.head()"
   ]
  },
  {
   "cell_type": "code",
   "execution_count": 3,
   "id": "76512664",
   "metadata": {},
   "outputs": [],
   "source": [
    "#mark a report as True if it is a bug report else mark it False\n",
    "bug_markers = []\n",
    "for index,row in raw_df.iterrows():\n",
    "    if \"[Bug]:\" in row['Title']:\n",
    "        #print(\"inside if: \",row['Title'])\n",
    "        bug_markers.append(True)\n",
    "    else:\n",
    "        bug_markers.append(False)\n"
   ]
  },
  {
   "cell_type": "code",
   "execution_count": 5,
   "id": "38a83b95",
   "metadata": {},
   "outputs": [
    {
     "ename": "AttributeError",
     "evalue": "'list' object has no attribute 'count_values'",
     "output_type": "error",
     "traceback": [
      "\u001b[1;31m---------------------------------------------------------------------------\u001b[0m",
      "\u001b[1;31mAttributeError\u001b[0m                            Traceback (most recent call last)",
      "\u001b[1;32m~\\AppData\\Local\\Temp/ipykernel_5764/41143325.py\u001b[0m in \u001b[0;36m<module>\u001b[1;34m\u001b[0m\n\u001b[1;32m----> 1\u001b[1;33m \u001b[0mbug_markers\u001b[0m\u001b[1;33m.\u001b[0m\u001b[0mcount_values\u001b[0m\u001b[1;33m(\u001b[0m\u001b[1;32mTrue\u001b[0m\u001b[1;33m)\u001b[0m\u001b[1;33m\u001b[0m\u001b[1;33m\u001b[0m\u001b[0m\n\u001b[0m",
      "\u001b[1;31mAttributeError\u001b[0m: 'list' object has no attribute 'count_values'"
     ]
    }
   ],
   "source": [
    "count =0 \n"
   ]
  },
  {
   "cell_type": "code",
   "execution_count": 4,
   "id": "f892b7de",
   "metadata": {},
   "outputs": [
    {
     "data": {
      "text/html": [
       "<div>\n",
       "<style scoped>\n",
       "    .dataframe tbody tr th:only-of-type {\n",
       "        vertical-align: middle;\n",
       "    }\n",
       "\n",
       "    .dataframe tbody tr th {\n",
       "        vertical-align: top;\n",
       "    }\n",
       "\n",
       "    .dataframe thead th {\n",
       "        text-align: right;\n",
       "    }\n",
       "</style>\n",
       "<table border=\"1\" class=\"dataframe\">\n",
       "  <thead>\n",
       "    <tr style=\"text-align: right;\">\n",
       "      <th></th>\n",
       "      <th>Title</th>\n",
       "    </tr>\n",
       "  </thead>\n",
       "  <tbody>\n",
       "    <tr>\n",
       "      <th>1</th>\n",
       "      <td>[Bug]: No support for Hardcoded Preferences</td>\n",
       "    </tr>\n",
       "    <tr>\n",
       "      <th>6</th>\n",
       "      <td>[Bug]: With some input method, when inputting ...</td>\n",
       "    </tr>\n",
       "    <tr>\n",
       "      <th>7</th>\n",
       "      <td>[Bug]: WebGL Canvas rendering issue</td>\n",
       "    </tr>\n",
       "    <tr>\n",
       "      <th>12</th>\n",
       "      <td>[Bug]: Glean is not initialized. It may be dis...</td>\n",
       "    </tr>\n",
       "    <tr>\n",
       "      <th>15</th>\n",
       "      <td>[Bug]: Nimbus Debug build error on Windows</td>\n",
       "    </tr>\n",
       "    <tr>\n",
       "      <th>...</th>\n",
       "      <td>...</td>\n",
       "    </tr>\n",
       "    <tr>\n",
       "      <th>354</th>\n",
       "      <td>[Bug]: Can't play video on ceskatelevize.cz</td>\n",
       "    </tr>\n",
       "    <tr>\n",
       "      <th>356</th>\n",
       "      <td>[Bug]: Android 12 Elastic Overscroll Leaving P...</td>\n",
       "    </tr>\n",
       "    <tr>\n",
       "      <th>361</th>\n",
       "      <td>[Bug]: The vast majority of browser icons disa...</td>\n",
       "    </tr>\n",
       "    <tr>\n",
       "      <th>364</th>\n",
       "      <td>[Bug]: crash at Web.de</td>\n",
       "    </tr>\n",
       "    <tr>\n",
       "      <th>369</th>\n",
       "      <td>[Bug]: Fenix does not respect Browser.EXTRA_AP...</td>\n",
       "    </tr>\n",
       "  </tbody>\n",
       "</table>\n",
       "<p>100 rows × 1 columns</p>\n",
       "</div>"
      ],
      "text/plain": [
       "                                                 Title\n",
       "1          [Bug]: No support for Hardcoded Preferences\n",
       "6    [Bug]: With some input method, when inputting ...\n",
       "7                  [Bug]: WebGL Canvas rendering issue\n",
       "12   [Bug]: Glean is not initialized. It may be dis...\n",
       "15          [Bug]: Nimbus Debug build error on Windows\n",
       "..                                                 ...\n",
       "354        [Bug]: Can't play video on ceskatelevize.cz\n",
       "356  [Bug]: Android 12 Elastic Overscroll Leaving P...\n",
       "361  [Bug]: The vast majority of browser icons disa...\n",
       "364                             [Bug]: crash at Web.de\n",
       "369  [Bug]: Fenix does not respect Browser.EXTRA_AP...\n",
       "\n",
       "[100 rows x 1 columns]"
      ]
     },
     "execution_count": 4,
     "metadata": {},
     "output_type": "execute_result"
    }
   ],
   "source": [
    "#remove all the reports which are not bug reports\n",
    "\n",
    "bug_reports_df = raw_df\n",
    "bug_reports_df['bug marker'] = bug_markers\n",
    "bug_reports_df = bug_reports_df[bug_reports_df['bug marker']==True].drop(\"bug marker\",axis=1)\n",
    "bug_reports_df.head(100)"
   ]
  },
  {
   "cell_type": "code",
   "execution_count": 7,
   "id": "64b86d61",
   "metadata": {},
   "outputs": [
    {
     "data": {
      "text/html": [
       "<div>\n",
       "<style scoped>\n",
       "    .dataframe tbody tr th:only-of-type {\n",
       "        vertical-align: middle;\n",
       "    }\n",
       "\n",
       "    .dataframe tbody tr th {\n",
       "        vertical-align: top;\n",
       "    }\n",
       "\n",
       "    .dataframe thead th {\n",
       "        text-align: right;\n",
       "    }\n",
       "</style>\n",
       "<table border=\"1\" class=\"dataframe\">\n",
       "  <thead>\n",
       "    <tr style=\"text-align: right;\">\n",
       "      <th></th>\n",
       "      <th>Title</th>\n",
       "    </tr>\n",
       "  </thead>\n",
       "  <tbody>\n",
       "    <tr>\n",
       "      <th>1</th>\n",
       "      <td>no support for hardcoded preferences</td>\n",
       "    </tr>\n",
       "    <tr>\n",
       "      <th>6</th>\n",
       "      <td>with some input method, when inputting at the...</td>\n",
       "    </tr>\n",
       "    <tr>\n",
       "      <th>7</th>\n",
       "      <td>webgl canvas rendering issue</td>\n",
       "    </tr>\n",
       "    <tr>\n",
       "      <th>12</th>\n",
       "      <td>glean is not initialized. it may be disabled ...</td>\n",
       "    </tr>\n",
       "    <tr>\n",
       "      <th>15</th>\n",
       "      <td>nimbus debug build error on windows</td>\n",
       "    </tr>\n",
       "    <tr>\n",
       "      <th>...</th>\n",
       "      <td>...</td>\n",
       "    </tr>\n",
       "    <tr>\n",
       "      <th>354</th>\n",
       "      <td>can't play video on ceskatelevize.cz</td>\n",
       "    </tr>\n",
       "    <tr>\n",
       "      <th>356</th>\n",
       "      <td>android 12 elastic overscroll leaving page st...</td>\n",
       "    </tr>\n",
       "    <tr>\n",
       "      <th>361</th>\n",
       "      <td>the vast majority of browser icons disappeared</td>\n",
       "    </tr>\n",
       "    <tr>\n",
       "      <th>364</th>\n",
       "      <td>crash at web.de</td>\n",
       "    </tr>\n",
       "    <tr>\n",
       "      <th>369</th>\n",
       "      <td>fenix does not respect browser.extra_applicat...</td>\n",
       "    </tr>\n",
       "  </tbody>\n",
       "</table>\n",
       "<p>100 rows × 1 columns</p>\n",
       "</div>"
      ],
      "text/plain": [
       "                                                 Title\n",
       "1                 no support for hardcoded preferences\n",
       "6     with some input method, when inputting at the...\n",
       "7                         webgl canvas rendering issue\n",
       "12    glean is not initialized. it may be disabled ...\n",
       "15                 nimbus debug build error on windows\n",
       "..                                                 ...\n",
       "354               can't play video on ceskatelevize.cz\n",
       "356   android 12 elastic overscroll leaving page st...\n",
       "361     the vast majority of browser icons disappeared\n",
       "364                                    crash at web.de\n",
       "369   fenix does not respect browser.extra_applicat...\n",
       "\n",
       "[100 rows x 1 columns]"
      ]
     },
     "execution_count": 7,
     "metadata": {},
     "output_type": "execute_result"
    }
   ],
   "source": [
    "#removing the \"[Bug]:\" substring \n",
    "pre_processed_bug_reports = bug_reports_df\n",
    "pre_processed_bug_reports['Title'] = pre_processed_bug_reports.Title.str.replace(r'\\[\\S+\\]:|\\[\\S+\\]',r'',regex=True)\n",
    "pre_processed_bug_reports['Title'] = pre_processed_bug_reports.Title.str.replace(r'http\\S+|www\\S+',r'website',regex=True)\n",
    "\n",
    "#converting everything to lowercase\n",
    "pre_processed_bug_reports['Title'] = pre_processed_bug_reports['Title'].str.lower()\n",
    "pre_processed_bug_reports.head(100)"
   ]
  },
  {
   "cell_type": "code",
   "execution_count": 8,
   "id": "60111596",
   "metadata": {},
   "outputs": [],
   "source": [
    "#writing the finalbug reports to a csv file\n",
    "pre_processed_bug_reports.to_csv(path_or_buf = \"processed_data/firefox_processed_bugReports.csv\",columns = [\"Title\"],header=False)"
   ]
  }
 ],
 "metadata": {
  "kernelspec": {
   "display_name": "Python 3 (ipykernel)",
   "language": "python",
   "name": "python3"
  },
  "language_info": {
   "codemirror_mode": {
    "name": "ipython",
    "version": 3
   },
   "file_extension": ".py",
   "mimetype": "text/x-python",
   "name": "python",
   "nbconvert_exporter": "python",
   "pygments_lexer": "ipython3",
   "version": "3.9.7"
  }
 },
 "nbformat": 4,
 "nbformat_minor": 5
}
